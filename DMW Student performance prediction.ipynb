{
 "cells": [
  {
   "cell_type": "markdown",
   "metadata": {},
   "source": [
    "Using Student Performance dataset from UCI"
   ]
  },
  {
   "cell_type": "code",
   "execution_count": 4,
   "metadata": {},
   "outputs": [],
   "source": [
    "df <- read.csv(\"student-mat.csv\", sep=\";\")"
   ]
  },
  {
   "cell_type": "code",
   "execution_count": 5,
   "metadata": {},
   "outputs": [
    {
     "data": {
      "text/html": [
       "<table>\n",
       "<thead><tr><th scope=col>school</th><th scope=col>sex</th><th scope=col>age</th><th scope=col>address</th><th scope=col>famsize</th><th scope=col>Pstatus</th><th scope=col>Medu</th><th scope=col>Fedu</th><th scope=col>Mjob</th><th scope=col>Fjob</th><th scope=col>...</th><th scope=col>famrel</th><th scope=col>freetime</th><th scope=col>goout</th><th scope=col>Dalc</th><th scope=col>Walc</th><th scope=col>health</th><th scope=col>absences</th><th scope=col>G1</th><th scope=col>G2</th><th scope=col>G3</th></tr></thead>\n",
       "<tbody>\n",
       "\t<tr><td>GP      </td><td>F       </td><td>18      </td><td>U       </td><td>GT3     </td><td>A       </td><td>4       </td><td>4       </td><td>at_home </td><td>teacher </td><td>...     </td><td>4       </td><td>3       </td><td>4       </td><td>1       </td><td>1       </td><td>3       </td><td> 6      </td><td> 5      </td><td> 6      </td><td> 6      </td></tr>\n",
       "\t<tr><td>GP      </td><td>F       </td><td>17      </td><td>U       </td><td>GT3     </td><td>T       </td><td>1       </td><td>1       </td><td>at_home </td><td>other   </td><td>...     </td><td>5       </td><td>3       </td><td>3       </td><td>1       </td><td>1       </td><td>3       </td><td> 4      </td><td> 5      </td><td> 5      </td><td> 6      </td></tr>\n",
       "\t<tr><td>GP      </td><td>F       </td><td>15      </td><td>U       </td><td>LE3     </td><td>T       </td><td>1       </td><td>1       </td><td>at_home </td><td>other   </td><td>...     </td><td>4       </td><td>3       </td><td>2       </td><td>2       </td><td>3       </td><td>3       </td><td>10      </td><td> 7      </td><td> 8      </td><td>10      </td></tr>\n",
       "\t<tr><td>GP      </td><td>F       </td><td>15      </td><td>U       </td><td>GT3     </td><td>T       </td><td>4       </td><td>2       </td><td>health  </td><td>services</td><td>...     </td><td>3       </td><td>2       </td><td>2       </td><td>1       </td><td>1       </td><td>5       </td><td> 2      </td><td>15      </td><td>14      </td><td>15      </td></tr>\n",
       "\t<tr><td>GP      </td><td>F       </td><td>16      </td><td>U       </td><td>GT3     </td><td>T       </td><td>3       </td><td>3       </td><td>other   </td><td>other   </td><td>...     </td><td>4       </td><td>3       </td><td>2       </td><td>1       </td><td>2       </td><td>5       </td><td> 4      </td><td> 6      </td><td>10      </td><td>10      </td></tr>\n",
       "\t<tr><td>GP      </td><td>M       </td><td>16      </td><td>U       </td><td>LE3     </td><td>T       </td><td>4       </td><td>3       </td><td>services</td><td>other   </td><td>...     </td><td>5       </td><td>4       </td><td>2       </td><td>1       </td><td>2       </td><td>5       </td><td>10      </td><td>15      </td><td>15      </td><td>15      </td></tr>\n",
       "</tbody>\n",
       "</table>\n"
      ],
      "text/latex": [
       "\\begin{tabular}{r|lllllllllllllllllllllllllllllllll}\n",
       " school & sex & age & address & famsize & Pstatus & Medu & Fedu & Mjob & Fjob & ... & famrel & freetime & goout & Dalc & Walc & health & absences & G1 & G2 & G3\\\\\n",
       "\\hline\n",
       "\t GP         & F          & 18         & U          & GT3        & A          & 4          & 4          & at\\_home  & teacher    & ...        & 4          & 3          & 4          & 1          & 1          & 3          &  6         &  5         &  6         &  6        \\\\\n",
       "\t GP         & F          & 17         & U          & GT3        & T          & 1          & 1          & at\\_home  & other      & ...        & 5          & 3          & 3          & 1          & 1          & 3          &  4         &  5         &  5         &  6        \\\\\n",
       "\t GP         & F          & 15         & U          & LE3        & T          & 1          & 1          & at\\_home  & other      & ...        & 4          & 3          & 2          & 2          & 3          & 3          & 10         &  7         &  8         & 10        \\\\\n",
       "\t GP       & F        & 15       & U        & GT3      & T        & 4        & 2        & health   & services & ...      & 3        & 2        & 2        & 1        & 1        & 5        &  2       & 15       & 14       & 15      \\\\\n",
       "\t GP       & F        & 16       & U        & GT3      & T        & 3        & 3        & other    & other    & ...      & 4        & 3        & 2        & 1        & 2        & 5        &  4       &  6       & 10       & 10      \\\\\n",
       "\t GP       & M        & 16       & U        & LE3      & T        & 4        & 3        & services & other    & ...      & 5        & 4        & 2        & 1        & 2        & 5        & 10       & 15       & 15       & 15      \\\\\n",
       "\\end{tabular}\n"
      ],
      "text/markdown": [
       "\n",
       "school | sex | age | address | famsize | Pstatus | Medu | Fedu | Mjob | Fjob | ... | famrel | freetime | goout | Dalc | Walc | health | absences | G1 | G2 | G3 | \n",
       "|---|---|---|---|---|---|\n",
       "| GP       | F        | 18       | U        | GT3      | A        | 4        | 4        | at_home  | teacher  | ...      | 4        | 3        | 4        | 1        | 1        | 3        |  6       |  5       |  6       |  6       | \n",
       "| GP       | F        | 17       | U        | GT3      | T        | 1        | 1        | at_home  | other    | ...      | 5        | 3        | 3        | 1        | 1        | 3        |  4       |  5       |  5       |  6       | \n",
       "| GP       | F        | 15       | U        | LE3      | T        | 1        | 1        | at_home  | other    | ...      | 4        | 3        | 2        | 2        | 3        | 3        | 10       |  7       |  8       | 10       | \n",
       "| GP       | F        | 15       | U        | GT3      | T        | 4        | 2        | health   | services | ...      | 3        | 2        | 2        | 1        | 1        | 5        |  2       | 15       | 14       | 15       | \n",
       "| GP       | F        | 16       | U        | GT3      | T        | 3        | 3        | other    | other    | ...      | 4        | 3        | 2        | 1        | 2        | 5        |  4       |  6       | 10       | 10       | \n",
       "| GP       | M        | 16       | U        | LE3      | T        | 4        | 3        | services | other    | ...      | 5        | 4        | 2        | 1        | 2        | 5        | 10       | 15       | 15       | 15       | \n",
       "\n",
       "\n"
      ],
      "text/plain": [
       "  school sex age address famsize Pstatus Medu Fedu Mjob     Fjob     ... famrel\n",
       "1 GP     F   18  U       GT3     A       4    4    at_home  teacher  ... 4     \n",
       "2 GP     F   17  U       GT3     T       1    1    at_home  other    ... 5     \n",
       "3 GP     F   15  U       LE3     T       1    1    at_home  other    ... 4     \n",
       "4 GP     F   15  U       GT3     T       4    2    health   services ... 3     \n",
       "5 GP     F   16  U       GT3     T       3    3    other    other    ... 4     \n",
       "6 GP     M   16  U       LE3     T       4    3    services other    ... 5     \n",
       "  freetime goout Dalc Walc health absences G1 G2 G3\n",
       "1 3        4     1    1    3       6        5  6  6\n",
       "2 3        3     1    1    3       4        5  5  6\n",
       "3 3        2     2    3    3      10        7  8 10\n",
       "4 2        2     1    1    5       2       15 14 15\n",
       "5 3        2     1    2    5       4        6 10 10\n",
       "6 4        2     1    2    5      10       15 15 15"
      ]
     },
     "metadata": {},
     "output_type": "display_data"
    }
   ],
   "source": [
    "head(df)"
   ]
  },
  {
   "cell_type": "code",
   "execution_count": 6,
   "metadata": {},
   "outputs": [
    {
     "data": {
      "text/html": [
       "<table>\n",
       "<thead><tr><th></th><th scope=col>school</th><th scope=col>sex</th><th scope=col>age</th><th scope=col>address</th><th scope=col>famsize</th><th scope=col>Pstatus</th><th scope=col>Medu</th><th scope=col>Fedu</th><th scope=col>Mjob</th><th scope=col>Fjob</th><th scope=col>...</th><th scope=col>famrel</th><th scope=col>freetime</th><th scope=col>goout</th><th scope=col>Dalc</th><th scope=col>Walc</th><th scope=col>health</th><th scope=col>absences</th><th scope=col>G1</th><th scope=col>G2</th><th scope=col>G3</th></tr></thead>\n",
       "<tbody>\n",
       "\t<tr><th scope=row>390</th><td>MS      </td><td>F       </td><td>18      </td><td>U       </td><td>GT3     </td><td>T       </td><td>1       </td><td>1       </td><td>other   </td><td>other   </td><td>...     </td><td>1       </td><td>1       </td><td>1       </td><td>1       </td><td>1       </td><td>5       </td><td> 0      </td><td> 6      </td><td> 5      </td><td> 0      </td></tr>\n",
       "\t<tr><th scope=row>391</th><td>MS      </td><td>M       </td><td>20      </td><td>U       </td><td>LE3     </td><td>A       </td><td>2       </td><td>2       </td><td>services</td><td>services</td><td>...     </td><td>5       </td><td>5       </td><td>4       </td><td>4       </td><td>5       </td><td>4       </td><td>11      </td><td> 9      </td><td> 9      </td><td> 9      </td></tr>\n",
       "\t<tr><th scope=row>392</th><td>MS      </td><td>M       </td><td>17      </td><td>U       </td><td>LE3     </td><td>T       </td><td>3       </td><td>1       </td><td>services</td><td>services</td><td>...     </td><td>2       </td><td>4       </td><td>5       </td><td>3       </td><td>4       </td><td>2       </td><td> 3      </td><td>14      </td><td>16      </td><td>16      </td></tr>\n",
       "\t<tr><th scope=row>393</th><td>MS      </td><td>M       </td><td>21      </td><td>R       </td><td>GT3     </td><td>T       </td><td>1       </td><td>1       </td><td>other   </td><td>other   </td><td>...     </td><td>5       </td><td>5       </td><td>3       </td><td>3       </td><td>3       </td><td>3       </td><td> 3      </td><td>10      </td><td> 8      </td><td> 7      </td></tr>\n",
       "\t<tr><th scope=row>394</th><td>MS      </td><td>M       </td><td>18      </td><td>R       </td><td>LE3     </td><td>T       </td><td>3       </td><td>2       </td><td>services</td><td>other   </td><td>...     </td><td>4       </td><td>4       </td><td>1       </td><td>3       </td><td>4       </td><td>5       </td><td> 0      </td><td>11      </td><td>12      </td><td>10      </td></tr>\n",
       "\t<tr><th scope=row>395</th><td>MS      </td><td>M       </td><td>19      </td><td>U       </td><td>LE3     </td><td>T       </td><td>1       </td><td>1       </td><td>other   </td><td>at_home </td><td>...     </td><td>3       </td><td>2       </td><td>3       </td><td>3       </td><td>3       </td><td>5       </td><td> 5      </td><td> 8      </td><td> 9      </td><td> 9      </td></tr>\n",
       "</tbody>\n",
       "</table>\n"
      ],
      "text/latex": [
       "\\begin{tabular}{r|lllllllllllllllllllllllllllllllll}\n",
       "  & school & sex & age & address & famsize & Pstatus & Medu & Fedu & Mjob & Fjob & ... & famrel & freetime & goout & Dalc & Walc & health & absences & G1 & G2 & G3\\\\\n",
       "\\hline\n",
       "\t390 & MS       & F        & 18       & U        & GT3      & T        & 1        & 1        & other    & other    & ...      & 1        & 1        & 1        & 1        & 1        & 5        &  0       &  6       &  5       &  0      \\\\\n",
       "\t391 & MS       & M        & 20       & U        & LE3      & A        & 2        & 2        & services & services & ...      & 5        & 5        & 4        & 4        & 5        & 4        & 11       &  9       &  9       &  9      \\\\\n",
       "\t392 & MS       & M        & 17       & U        & LE3      & T        & 3        & 1        & services & services & ...      & 2        & 4        & 5        & 3        & 4        & 2        &  3       & 14       & 16       & 16      \\\\\n",
       "\t393 & MS       & M        & 21       & R        & GT3      & T        & 1        & 1        & other    & other    & ...      & 5        & 5        & 3        & 3        & 3        & 3        &  3       & 10       &  8       &  7      \\\\\n",
       "\t394 & MS       & M        & 18       & R        & LE3      & T        & 3        & 2        & services & other    & ...      & 4        & 4        & 1        & 3        & 4        & 5        &  0       & 11       & 12       & 10      \\\\\n",
       "\t395 & MS         & M          & 19         & U          & LE3        & T          & 1          & 1          & other      & at\\_home  & ...        & 3          & 2          & 3          & 3          & 3          & 5          &  5         &  8         &  9         &  9        \\\\\n",
       "\\end{tabular}\n"
      ],
      "text/markdown": [
       "\n",
       "| <!--/--> | school | sex | age | address | famsize | Pstatus | Medu | Fedu | Mjob | Fjob | ... | famrel | freetime | goout | Dalc | Walc | health | absences | G1 | G2 | G3 | \n",
       "|---|---|---|---|---|---|\n",
       "| 390 | MS       | F        | 18       | U        | GT3      | T        | 1        | 1        | other    | other    | ...      | 1        | 1        | 1        | 1        | 1        | 5        |  0       |  6       |  5       |  0       | \n",
       "| 391 | MS       | M        | 20       | U        | LE3      | A        | 2        | 2        | services | services | ...      | 5        | 5        | 4        | 4        | 5        | 4        | 11       |  9       |  9       |  9       | \n",
       "| 392 | MS       | M        | 17       | U        | LE3      | T        | 3        | 1        | services | services | ...      | 2        | 4        | 5        | 3        | 4        | 2        |  3       | 14       | 16       | 16       | \n",
       "| 393 | MS       | M        | 21       | R        | GT3      | T        | 1        | 1        | other    | other    | ...      | 5        | 5        | 3        | 3        | 3        | 3        |  3       | 10       |  8       |  7       | \n",
       "| 394 | MS       | M        | 18       | R        | LE3      | T        | 3        | 2        | services | other    | ...      | 4        | 4        | 1        | 3        | 4        | 5        |  0       | 11       | 12       | 10       | \n",
       "| 395 | MS       | M        | 19       | U        | LE3      | T        | 1        | 1        | other    | at_home  | ...      | 3        | 2        | 3        | 3        | 3        | 5        |  5       |  8       |  9       |  9       | \n",
       "\n",
       "\n"
      ],
      "text/plain": [
       "    school sex age address famsize Pstatus Medu Fedu Mjob     Fjob     ...\n",
       "390 MS     F   18  U       GT3     T       1    1    other    other    ...\n",
       "391 MS     M   20  U       LE3     A       2    2    services services ...\n",
       "392 MS     M   17  U       LE3     T       3    1    services services ...\n",
       "393 MS     M   21  R       GT3     T       1    1    other    other    ...\n",
       "394 MS     M   18  R       LE3     T       3    2    services other    ...\n",
       "395 MS     M   19  U       LE3     T       1    1    other    at_home  ...\n",
       "    famrel freetime goout Dalc Walc health absences G1 G2 G3\n",
       "390 1      1        1     1    1    5       0        6  5  0\n",
       "391 5      5        4     4    5    4      11        9  9  9\n",
       "392 2      4        5     3    4    2       3       14 16 16\n",
       "393 5      5        3     3    3    3       3       10  8  7\n",
       "394 4      4        1     3    4    5       0       11 12 10\n",
       "395 3      2        3     3    3    5       5        8  9  9"
      ]
     },
     "metadata": {},
     "output_type": "display_data"
    }
   ],
   "source": [
    "tail(df)"
   ]
  },
  {
   "cell_type": "code",
   "execution_count": 8,
   "metadata": {},
   "outputs": [
    {
     "data": {
      "text/html": [
       "FALSE"
      ],
      "text/latex": [
       "FALSE"
      ],
      "text/markdown": [
       "FALSE"
      ],
      "text/plain": [
       "[1] FALSE"
      ]
     },
     "metadata": {},
     "output_type": "display_data"
    }
   ],
   "source": [
    "any(is.na(df))"
   ]
  },
  {
   "cell_type": "markdown",
   "metadata": {},
   "source": [
    "False means clean dataset"
   ]
  },
  {
   "cell_type": "code",
   "execution_count": 9,
   "metadata": {},
   "outputs": [
    {
     "data": {
      "text/plain": [
       " school   sex          age       address famsize   Pstatus      Medu      \n",
       " GP:349   F:208   Min.   :15.0   R: 88   GT3:281   A: 41   Min.   :0.000  \n",
       " MS: 46   M:187   1st Qu.:16.0   U:307   LE3:114   T:354   1st Qu.:2.000  \n",
       "                  Median :17.0                             Median :3.000  \n",
       "                  Mean   :16.7                             Mean   :2.749  \n",
       "                  3rd Qu.:18.0                             3rd Qu.:4.000  \n",
       "                  Max.   :22.0                             Max.   :4.000  \n",
       "      Fedu             Mjob           Fjob            reason      guardian  \n",
       " Min.   :0.000   at_home : 59   at_home : 20   course    :145   father: 90  \n",
       " 1st Qu.:2.000   health  : 34   health  : 18   home      :109   mother:273  \n",
       " Median :2.000   other   :141   other   :217   other     : 36   other : 32  \n",
       " Mean   :2.522   services:103   services:111   reputation:105               \n",
       " 3rd Qu.:3.000   teacher : 58   teacher : 29                                \n",
       " Max.   :4.000                                                              \n",
       "   traveltime      studytime        failures      schoolsup famsup     paid    \n",
       " Min.   :1.000   Min.   :1.000   Min.   :0.0000   no :344   no :153   no :214  \n",
       " 1st Qu.:1.000   1st Qu.:1.000   1st Qu.:0.0000   yes: 51   yes:242   yes:181  \n",
       " Median :1.000   Median :2.000   Median :0.0000                                \n",
       " Mean   :1.448   Mean   :2.035   Mean   :0.3342                                \n",
       " 3rd Qu.:2.000   3rd Qu.:2.000   3rd Qu.:0.0000                                \n",
       " Max.   :4.000   Max.   :4.000   Max.   :3.0000                                \n",
       " activities nursery   higher    internet  romantic      famrel     \n",
       " no :194    no : 81   no : 20   no : 66   no :263   Min.   :1.000  \n",
       " yes:201    yes:314   yes:375   yes:329   yes:132   1st Qu.:4.000  \n",
       "                                                    Median :4.000  \n",
       "                                                    Mean   :3.944  \n",
       "                                                    3rd Qu.:5.000  \n",
       "                                                    Max.   :5.000  \n",
       "    freetime         goout            Dalc            Walc      \n",
       " Min.   :1.000   Min.   :1.000   Min.   :1.000   Min.   :1.000  \n",
       " 1st Qu.:3.000   1st Qu.:2.000   1st Qu.:1.000   1st Qu.:1.000  \n",
       " Median :3.000   Median :3.000   Median :1.000   Median :2.000  \n",
       " Mean   :3.235   Mean   :3.109   Mean   :1.481   Mean   :2.291  \n",
       " 3rd Qu.:4.000   3rd Qu.:4.000   3rd Qu.:2.000   3rd Qu.:3.000  \n",
       " Max.   :5.000   Max.   :5.000   Max.   :5.000   Max.   :5.000  \n",
       "     health         absences            G1              G2       \n",
       " Min.   :1.000   Min.   : 0.000   Min.   : 3.00   Min.   : 0.00  \n",
       " 1st Qu.:3.000   1st Qu.: 0.000   1st Qu.: 8.00   1st Qu.: 9.00  \n",
       " Median :4.000   Median : 4.000   Median :11.00   Median :11.00  \n",
       " Mean   :3.554   Mean   : 5.709   Mean   :10.91   Mean   :10.71  \n",
       " 3rd Qu.:5.000   3rd Qu.: 8.000   3rd Qu.:13.00   3rd Qu.:13.00  \n",
       " Max.   :5.000   Max.   :75.000   Max.   :19.00   Max.   :19.00  \n",
       "       G3       \n",
       " Min.   : 0.00  \n",
       " 1st Qu.: 8.00  \n",
       " Median :11.00  \n",
       " Mean   :10.42  \n",
       " 3rd Qu.:14.00  \n",
       " Max.   :20.00  "
      ]
     },
     "metadata": {},
     "output_type": "display_data"
    }
   ],
   "source": [
    "summary(df)\n"
   ]
  },
  {
   "cell_type": "code",
   "execution_count": 10,
   "metadata": {},
   "outputs": [
    {
     "name": "stdout",
     "output_type": "stream",
     "text": [
      "'data.frame':\t395 obs. of  33 variables:\n",
      " $ school    : Factor w/ 2 levels \"GP\",\"MS\": 1 1 1 1 1 1 1 1 1 1 ...\n",
      " $ sex       : Factor w/ 2 levels \"F\",\"M\": 1 1 1 1 1 2 2 1 2 2 ...\n",
      " $ age       : int  18 17 15 15 16 16 16 17 15 15 ...\n",
      " $ address   : Factor w/ 2 levels \"R\",\"U\": 2 2 2 2 2 2 2 2 2 2 ...\n",
      " $ famsize   : Factor w/ 2 levels \"GT3\",\"LE3\": 1 1 2 1 1 2 2 1 2 1 ...\n",
      " $ Pstatus   : Factor w/ 2 levels \"A\",\"T\": 1 2 2 2 2 2 2 1 1 2 ...\n",
      " $ Medu      : int  4 1 1 4 3 4 2 4 3 3 ...\n",
      " $ Fedu      : int  4 1 1 2 3 3 2 4 2 4 ...\n",
      " $ Mjob      : Factor w/ 5 levels \"at_home\",\"health\",..: 1 1 1 2 3 4 3 3 4 3 ...\n",
      " $ Fjob      : Factor w/ 5 levels \"at_home\",\"health\",..: 5 3 3 4 3 3 3 5 3 3 ...\n",
      " $ reason    : Factor w/ 4 levels \"course\",\"home\",..: 1 1 3 2 2 4 2 2 2 2 ...\n",
      " $ guardian  : Factor w/ 3 levels \"father\",\"mother\",..: 2 1 2 2 1 2 2 2 2 2 ...\n",
      " $ traveltime: int  2 1 1 1 1 1 1 2 1 1 ...\n",
      " $ studytime : int  2 2 2 3 2 2 2 2 2 2 ...\n",
      " $ failures  : int  0 0 3 0 0 0 0 0 0 0 ...\n",
      " $ schoolsup : Factor w/ 2 levels \"no\",\"yes\": 2 1 2 1 1 1 1 2 1 1 ...\n",
      " $ famsup    : Factor w/ 2 levels \"no\",\"yes\": 1 2 1 2 2 2 1 2 2 2 ...\n",
      " $ paid      : Factor w/ 2 levels \"no\",\"yes\": 1 1 2 2 2 2 1 1 2 2 ...\n",
      " $ activities: Factor w/ 2 levels \"no\",\"yes\": 1 1 1 2 1 2 1 1 1 2 ...\n",
      " $ nursery   : Factor w/ 2 levels \"no\",\"yes\": 2 1 2 2 2 2 2 2 2 2 ...\n",
      " $ higher    : Factor w/ 2 levels \"no\",\"yes\": 2 2 2 2 2 2 2 2 2 2 ...\n",
      " $ internet  : Factor w/ 2 levels \"no\",\"yes\": 1 2 2 2 1 2 2 1 2 2 ...\n",
      " $ romantic  : Factor w/ 2 levels \"no\",\"yes\": 1 1 1 2 1 1 1 1 1 1 ...\n",
      " $ famrel    : int  4 5 4 3 4 5 4 4 4 5 ...\n",
      " $ freetime  : int  3 3 3 2 3 4 4 1 2 5 ...\n",
      " $ goout     : int  4 3 2 2 2 2 4 4 2 1 ...\n",
      " $ Dalc      : int  1 1 2 1 1 1 1 1 1 1 ...\n",
      " $ Walc      : int  1 1 3 1 2 2 1 1 1 1 ...\n",
      " $ health    : int  3 3 3 5 5 5 3 1 1 5 ...\n",
      " $ absences  : int  6 4 10 2 4 10 0 6 0 0 ...\n",
      " $ G1        : int  5 5 7 15 6 15 12 6 16 14 ...\n",
      " $ G2        : int  6 5 8 14 10 15 12 5 18 15 ...\n",
      " $ G3        : int  6 6 10 15 10 15 11 6 19 15 ...\n"
     ]
    }
   ],
   "source": [
    "str(df)\n"
   ]
  },
  {
   "cell_type": "code",
   "execution_count": 18,
   "metadata": {},
   "outputs": [],
   "source": [
    "library(ggplot2)\n",
    "library(dplyr)\n",
    "library(ggthemes)"
   ]
  },
  {
   "cell_type": "code",
   "execution_count": 15,
   "metadata": {},
   "outputs": [
    {
     "data": {
      "text/html": [
       "<table>\n",
       "<thead><tr><th></th><th scope=col>age</th><th scope=col>Medu</th><th scope=col>Fedu</th><th scope=col>traveltime</th><th scope=col>studytime</th><th scope=col>failures</th><th scope=col>famrel</th><th scope=col>freetime</th><th scope=col>goout</th><th scope=col>Dalc</th><th scope=col>Walc</th><th scope=col>health</th><th scope=col>absences</th><th scope=col>G1</th><th scope=col>G2</th><th scope=col>G3</th></tr></thead>\n",
       "<tbody>\n",
       "\t<tr><th scope=row>age</th><td> 1.000000000</td><td>-0.163658419</td><td>-0.163438069</td><td> 0.070640721</td><td>-0.004140037</td><td> 0.24366538 </td><td> 0.053940096</td><td> 0.01643439 </td><td> 0.126963880</td><td> 0.131124605</td><td> 0.11727605 </td><td>-0.062187369</td><td> 0.17523008 </td><td>-0.06408150 </td><td>-0.14347405 </td><td>-0.16157944 </td></tr>\n",
       "\t<tr><th scope=row>Medu</th><td>-0.163658419</td><td> 1.000000000</td><td> 0.623455112</td><td>-0.171639305</td><td> 0.064944137</td><td>-0.23667996 </td><td>-0.003914458</td><td> 0.03089087 </td><td> 0.064094438</td><td> 0.019834099</td><td>-0.04712346 </td><td>-0.046877829</td><td> 0.10028482 </td><td> 0.20534100 </td><td> 0.21552717 </td><td> 0.21714750 </td></tr>\n",
       "\t<tr><th scope=row>Fedu</th><td>-0.163438069</td><td> 0.623455112</td><td> 1.000000000</td><td>-0.158194054</td><td>-0.009174639</td><td>-0.25040844 </td><td>-0.001369727</td><td>-0.01284553 </td><td> 0.043104668</td><td> 0.002386429</td><td>-0.01263102 </td><td> 0.014741537</td><td> 0.02447289 </td><td> 0.19026994 </td><td> 0.16489339 </td><td> 0.15245694 </td></tr>\n",
       "\t<tr><th scope=row>traveltime</th><td> 0.070640721</td><td>-0.171639305</td><td>-0.158194054</td><td> 1.000000000</td><td>-0.100909119</td><td> 0.09223875 </td><td>-0.016807986</td><td>-0.01702494 </td><td> 0.028539674</td><td> 0.138325309</td><td> 0.13411575 </td><td> 0.007500606</td><td>-0.01294378 </td><td>-0.09303999 </td><td>-0.15319796 </td><td>-0.11714205 </td></tr>\n",
       "\t<tr><th scope=row>studytime</th><td>-0.004140037</td><td> 0.064944137</td><td>-0.009174639</td><td>-0.100909119</td><td> 1.000000000</td><td>-0.17356303 </td><td> 0.039730704</td><td>-0.14319841 </td><td>-0.063903675</td><td>-0.196019263</td><td>-0.25378473 </td><td>-0.075615863</td><td>-0.06270018 </td><td> 0.16061192 </td><td> 0.13588000 </td><td> 0.09781969 </td></tr>\n",
       "\t<tr><th scope=row>failures</th><td> 0.243665377</td><td>-0.236679963</td><td>-0.250408444</td><td> 0.092238746</td><td>-0.173563031</td><td> 1.00000000 </td><td>-0.044336626</td><td> 0.09198747 </td><td> 0.124560922</td><td> 0.136046931</td><td> 0.14196203 </td><td> 0.065827282</td><td> 0.06372583 </td><td>-0.35471761 </td><td>-0.35589563 </td><td>-0.36041494 </td></tr>\n",
       "\t<tr><th scope=row>famrel</th><td> 0.053940096</td><td>-0.003914458</td><td>-0.001369727</td><td>-0.016807986</td><td> 0.039730704</td><td>-0.04433663 </td><td> 1.000000000</td><td> 0.15070144 </td><td> 0.064568411</td><td>-0.077594357</td><td>-0.11339731 </td><td> 0.094055728</td><td>-0.04435409 </td><td> 0.02216832 </td><td>-0.01828135 </td><td> 0.05136343 </td></tr>\n",
       "\t<tr><th scope=row>freetime</th><td> 0.016434389</td><td> 0.030890867</td><td>-0.012845528</td><td>-0.017024944</td><td>-0.143198407</td><td> 0.09198747 </td><td> 0.150701444</td><td> 1.00000000 </td><td> 0.285018715</td><td> 0.209000848</td><td> 0.14782181 </td><td> 0.075733357</td><td>-0.05807792 </td><td> 0.01261293 </td><td>-0.01377714 </td><td> 0.01130724 </td></tr>\n",
       "\t<tr><th scope=row>goout</th><td> 0.126963880</td><td> 0.064094438</td><td> 0.043104668</td><td> 0.028539674</td><td>-0.063903675</td><td> 0.12456092 </td><td> 0.064568411</td><td> 0.28501871 </td><td> 1.000000000</td><td> 0.266993848</td><td> 0.42038575 </td><td>-0.009577254</td><td> 0.04430222 </td><td>-0.14910397 </td><td>-0.16225003 </td><td>-0.13279147 </td></tr>\n",
       "\t<tr><th scope=row>Dalc</th><td> 0.131124605</td><td> 0.019834099</td><td> 0.002386429</td><td> 0.138325309</td><td>-0.196019263</td><td> 0.13604693 </td><td>-0.077594357</td><td> 0.20900085 </td><td> 0.266993848</td><td> 1.000000000</td><td> 0.64754423 </td><td> 0.077179582</td><td> 0.11190803 </td><td>-0.09415879 </td><td>-0.06412018 </td><td>-0.05466004 </td></tr>\n",
       "\t<tr><th scope=row>Walc</th><td> 0.117276052</td><td>-0.047123460</td><td>-0.012631018</td><td> 0.134115752</td><td>-0.253784731</td><td> 0.14196203 </td><td>-0.113397308</td><td> 0.14782181 </td><td> 0.420385745</td><td> 0.647544230</td><td> 1.00000000 </td><td> 0.092476317</td><td> 0.13629110 </td><td>-0.12617921 </td><td>-0.08492735 </td><td>-0.05193932 </td></tr>\n",
       "\t<tr><th scope=row>health</th><td>-0.062187369</td><td>-0.046877829</td><td> 0.014741537</td><td> 0.007500606</td><td>-0.075615863</td><td> 0.06582728 </td><td> 0.094055728</td><td> 0.07573336 </td><td>-0.009577254</td><td> 0.077179582</td><td> 0.09247632 </td><td> 1.000000000</td><td>-0.02993671 </td><td>-0.07317207 </td><td>-0.09771987 </td><td>-0.06133460 </td></tr>\n",
       "\t<tr><th scope=row>absences</th><td> 0.175230079</td><td> 0.100284818</td><td> 0.024472887</td><td>-0.012943775</td><td>-0.062700175</td><td> 0.06372583 </td><td>-0.044354095</td><td>-0.05807792 </td><td> 0.044302220</td><td> 0.111908026</td><td> 0.13629110 </td><td>-0.029936711</td><td> 1.00000000 </td><td>-0.03100290 </td><td>-0.03177670 </td><td> 0.03424732 </td></tr>\n",
       "\t<tr><th scope=row>G1</th><td>-0.064081497</td><td> 0.205340997</td><td> 0.190269936</td><td>-0.093039992</td><td> 0.160611915</td><td>-0.35471761 </td><td> 0.022168316</td><td> 0.01261293 </td><td>-0.149103967</td><td>-0.094158792</td><td>-0.12617921 </td><td>-0.073172073</td><td>-0.03100290 </td><td> 1.00000000 </td><td> 0.85211807 </td><td> 0.80146793 </td></tr>\n",
       "\t<tr><th scope=row>G2</th><td>-0.143474049</td><td> 0.215527168</td><td> 0.164893393</td><td>-0.153197963</td><td> 0.135879999</td><td>-0.35589563 </td><td>-0.018281347</td><td>-0.01377714 </td><td>-0.162250034</td><td>-0.064120183</td><td>-0.08492735 </td><td>-0.097719866</td><td>-0.03177670 </td><td> 0.85211807 </td><td> 1.00000000 </td><td> 0.90486799 </td></tr>\n",
       "\t<tr><th scope=row>G3</th><td>-0.161579438</td><td> 0.217147496</td><td> 0.152456939</td><td>-0.117142053</td><td> 0.097819690</td><td>-0.36041494 </td><td> 0.051363429</td><td> 0.01130724 </td><td>-0.132791474</td><td>-0.054660041</td><td>-0.05193932 </td><td>-0.061334605</td><td> 0.03424732 </td><td> 0.80146793 </td><td> 0.90486799 </td><td> 1.00000000 </td></tr>\n",
       "</tbody>\n",
       "</table>\n"
      ],
      "text/latex": [
       "\\begin{tabular}{r|llllllllllllllll}\n",
       "  & age & Medu & Fedu & traveltime & studytime & failures & famrel & freetime & goout & Dalc & Walc & health & absences & G1 & G2 & G3\\\\\n",
       "\\hline\n",
       "\tage &  1.000000000 & -0.163658419 & -0.163438069 &  0.070640721 & -0.004140037 &  0.24366538  &  0.053940096 &  0.01643439  &  0.126963880 &  0.131124605 &  0.11727605  & -0.062187369 &  0.17523008  & -0.06408150  & -0.14347405  & -0.16157944 \\\\\n",
       "\tMedu & -0.163658419 &  1.000000000 &  0.623455112 & -0.171639305 &  0.064944137 & -0.23667996  & -0.003914458 &  0.03089087  &  0.064094438 &  0.019834099 & -0.04712346  & -0.046877829 &  0.10028482  &  0.20534100  &  0.21552717  &  0.21714750 \\\\\n",
       "\tFedu & -0.163438069 &  0.623455112 &  1.000000000 & -0.158194054 & -0.009174639 & -0.25040844  & -0.001369727 & -0.01284553  &  0.043104668 &  0.002386429 & -0.01263102  &  0.014741537 &  0.02447289  &  0.19026994  &  0.16489339  &  0.15245694 \\\\\n",
       "\ttraveltime &  0.070640721 & -0.171639305 & -0.158194054 &  1.000000000 & -0.100909119 &  0.09223875  & -0.016807986 & -0.01702494  &  0.028539674 &  0.138325309 &  0.13411575  &  0.007500606 & -0.01294378  & -0.09303999  & -0.15319796  & -0.11714205 \\\\\n",
       "\tstudytime & -0.004140037 &  0.064944137 & -0.009174639 & -0.100909119 &  1.000000000 & -0.17356303  &  0.039730704 & -0.14319841  & -0.063903675 & -0.196019263 & -0.25378473  & -0.075615863 & -0.06270018  &  0.16061192  &  0.13588000  &  0.09781969 \\\\\n",
       "\tfailures &  0.243665377 & -0.236679963 & -0.250408444 &  0.092238746 & -0.173563031 &  1.00000000  & -0.044336626 &  0.09198747  &  0.124560922 &  0.136046931 &  0.14196203  &  0.065827282 &  0.06372583  & -0.35471761  & -0.35589563  & -0.36041494 \\\\\n",
       "\tfamrel &  0.053940096 & -0.003914458 & -0.001369727 & -0.016807986 &  0.039730704 & -0.04433663  &  1.000000000 &  0.15070144  &  0.064568411 & -0.077594357 & -0.11339731  &  0.094055728 & -0.04435409  &  0.02216832  & -0.01828135  &  0.05136343 \\\\\n",
       "\tfreetime &  0.016434389 &  0.030890867 & -0.012845528 & -0.017024944 & -0.143198407 &  0.09198747  &  0.150701444 &  1.00000000  &  0.285018715 &  0.209000848 &  0.14782181  &  0.075733357 & -0.05807792  &  0.01261293  & -0.01377714  &  0.01130724 \\\\\n",
       "\tgoout &  0.126963880 &  0.064094438 &  0.043104668 &  0.028539674 & -0.063903675 &  0.12456092  &  0.064568411 &  0.28501871  &  1.000000000 &  0.266993848 &  0.42038575  & -0.009577254 &  0.04430222  & -0.14910397  & -0.16225003  & -0.13279147 \\\\\n",
       "\tDalc &  0.131124605 &  0.019834099 &  0.002386429 &  0.138325309 & -0.196019263 &  0.13604693  & -0.077594357 &  0.20900085  &  0.266993848 &  1.000000000 &  0.64754423  &  0.077179582 &  0.11190803  & -0.09415879  & -0.06412018  & -0.05466004 \\\\\n",
       "\tWalc &  0.117276052 & -0.047123460 & -0.012631018 &  0.134115752 & -0.253784731 &  0.14196203  & -0.113397308 &  0.14782181  &  0.420385745 &  0.647544230 &  1.00000000  &  0.092476317 &  0.13629110  & -0.12617921  & -0.08492735  & -0.05193932 \\\\\n",
       "\thealth & -0.062187369 & -0.046877829 &  0.014741537 &  0.007500606 & -0.075615863 &  0.06582728  &  0.094055728 &  0.07573336  & -0.009577254 &  0.077179582 &  0.09247632  &  1.000000000 & -0.02993671  & -0.07317207  & -0.09771987  & -0.06133460 \\\\\n",
       "\tabsences &  0.175230079 &  0.100284818 &  0.024472887 & -0.012943775 & -0.062700175 &  0.06372583  & -0.044354095 & -0.05807792  &  0.044302220 &  0.111908026 &  0.13629110  & -0.029936711 &  1.00000000  & -0.03100290  & -0.03177670  &  0.03424732 \\\\\n",
       "\tG1 & -0.064081497 &  0.205340997 &  0.190269936 & -0.093039992 &  0.160611915 & -0.35471761  &  0.022168316 &  0.01261293  & -0.149103967 & -0.094158792 & -0.12617921  & -0.073172073 & -0.03100290  &  1.00000000  &  0.85211807  &  0.80146793 \\\\\n",
       "\tG2 & -0.143474049 &  0.215527168 &  0.164893393 & -0.153197963 &  0.135879999 & -0.35589563  & -0.018281347 & -0.01377714  & -0.162250034 & -0.064120183 & -0.08492735  & -0.097719866 & -0.03177670  &  0.85211807  &  1.00000000  &  0.90486799 \\\\\n",
       "\tG3 & -0.161579438 &  0.217147496 &  0.152456939 & -0.117142053 &  0.097819690 & -0.36041494  &  0.051363429 &  0.01130724  & -0.132791474 & -0.054660041 & -0.05193932  & -0.061334605 &  0.03424732  &  0.80146793  &  0.90486799  &  1.00000000 \\\\\n",
       "\\end{tabular}\n"
      ],
      "text/markdown": [
       "\n",
       "| <!--/--> | age | Medu | Fedu | traveltime | studytime | failures | famrel | freetime | goout | Dalc | Walc | health | absences | G1 | G2 | G3 | \n",
       "|---|---|---|---|---|---|---|---|---|---|---|---|---|---|---|---|\n",
       "| age |  1.000000000 | -0.163658419 | -0.163438069 |  0.070640721 | -0.004140037 |  0.24366538  |  0.053940096 |  0.01643439  |  0.126963880 |  0.131124605 |  0.11727605  | -0.062187369 |  0.17523008  | -0.06408150  | -0.14347405  | -0.16157944  | \n",
       "| Medu | -0.163658419 |  1.000000000 |  0.623455112 | -0.171639305 |  0.064944137 | -0.23667996  | -0.003914458 |  0.03089087  |  0.064094438 |  0.019834099 | -0.04712346  | -0.046877829 |  0.10028482  |  0.20534100  |  0.21552717  |  0.21714750  | \n",
       "| Fedu | -0.163438069 |  0.623455112 |  1.000000000 | -0.158194054 | -0.009174639 | -0.25040844  | -0.001369727 | -0.01284553  |  0.043104668 |  0.002386429 | -0.01263102  |  0.014741537 |  0.02447289  |  0.19026994  |  0.16489339  |  0.15245694  | \n",
       "| traveltime |  0.070640721 | -0.171639305 | -0.158194054 |  1.000000000 | -0.100909119 |  0.09223875  | -0.016807986 | -0.01702494  |  0.028539674 |  0.138325309 |  0.13411575  |  0.007500606 | -0.01294378  | -0.09303999  | -0.15319796  | -0.11714205  | \n",
       "| studytime | -0.004140037 |  0.064944137 | -0.009174639 | -0.100909119 |  1.000000000 | -0.17356303  |  0.039730704 | -0.14319841  | -0.063903675 | -0.196019263 | -0.25378473  | -0.075615863 | -0.06270018  |  0.16061192  |  0.13588000  |  0.09781969  | \n",
       "| failures |  0.243665377 | -0.236679963 | -0.250408444 |  0.092238746 | -0.173563031 |  1.00000000  | -0.044336626 |  0.09198747  |  0.124560922 |  0.136046931 |  0.14196203  |  0.065827282 |  0.06372583  | -0.35471761  | -0.35589563  | -0.36041494  | \n",
       "| famrel |  0.053940096 | -0.003914458 | -0.001369727 | -0.016807986 |  0.039730704 | -0.04433663  |  1.000000000 |  0.15070144  |  0.064568411 | -0.077594357 | -0.11339731  |  0.094055728 | -0.04435409  |  0.02216832  | -0.01828135  |  0.05136343  | \n",
       "| freetime |  0.016434389 |  0.030890867 | -0.012845528 | -0.017024944 | -0.143198407 |  0.09198747  |  0.150701444 |  1.00000000  |  0.285018715 |  0.209000848 |  0.14782181  |  0.075733357 | -0.05807792  |  0.01261293  | -0.01377714  |  0.01130724  | \n",
       "| goout |  0.126963880 |  0.064094438 |  0.043104668 |  0.028539674 | -0.063903675 |  0.12456092  |  0.064568411 |  0.28501871  |  1.000000000 |  0.266993848 |  0.42038575  | -0.009577254 |  0.04430222  | -0.14910397  | -0.16225003  | -0.13279147  | \n",
       "| Dalc |  0.131124605 |  0.019834099 |  0.002386429 |  0.138325309 | -0.196019263 |  0.13604693  | -0.077594357 |  0.20900085  |  0.266993848 |  1.000000000 |  0.64754423  |  0.077179582 |  0.11190803  | -0.09415879  | -0.06412018  | -0.05466004  | \n",
       "| Walc |  0.117276052 | -0.047123460 | -0.012631018 |  0.134115752 | -0.253784731 |  0.14196203  | -0.113397308 |  0.14782181  |  0.420385745 |  0.647544230 |  1.00000000  |  0.092476317 |  0.13629110  | -0.12617921  | -0.08492735  | -0.05193932  | \n",
       "| health | -0.062187369 | -0.046877829 |  0.014741537 |  0.007500606 | -0.075615863 |  0.06582728  |  0.094055728 |  0.07573336  | -0.009577254 |  0.077179582 |  0.09247632  |  1.000000000 | -0.02993671  | -0.07317207  | -0.09771987  | -0.06133460  | \n",
       "| absences |  0.175230079 |  0.100284818 |  0.024472887 | -0.012943775 | -0.062700175 |  0.06372583  | -0.044354095 | -0.05807792  |  0.044302220 |  0.111908026 |  0.13629110  | -0.029936711 |  1.00000000  | -0.03100290  | -0.03177670  |  0.03424732  | \n",
       "| G1 | -0.064081497 |  0.205340997 |  0.190269936 | -0.093039992 |  0.160611915 | -0.35471761  |  0.022168316 |  0.01261293  | -0.149103967 | -0.094158792 | -0.12617921  | -0.073172073 | -0.03100290  |  1.00000000  |  0.85211807  |  0.80146793  | \n",
       "| G2 | -0.143474049 |  0.215527168 |  0.164893393 | -0.153197963 |  0.135879999 | -0.35589563  | -0.018281347 | -0.01377714  | -0.162250034 | -0.064120183 | -0.08492735  | -0.097719866 | -0.03177670  |  0.85211807  |  1.00000000  |  0.90486799  | \n",
       "| G3 | -0.161579438 |  0.217147496 |  0.152456939 | -0.117142053 |  0.097819690 | -0.36041494  |  0.051363429 |  0.01130724  | -0.132791474 | -0.054660041 | -0.05193932  | -0.061334605 |  0.03424732  |  0.80146793  |  0.90486799  |  1.00000000  | \n",
       "\n",
       "\n"
      ],
      "text/plain": [
       "           age          Medu         Fedu         traveltime   studytime   \n",
       "age         1.000000000 -0.163658419 -0.163438069  0.070640721 -0.004140037\n",
       "Medu       -0.163658419  1.000000000  0.623455112 -0.171639305  0.064944137\n",
       "Fedu       -0.163438069  0.623455112  1.000000000 -0.158194054 -0.009174639\n",
       "traveltime  0.070640721 -0.171639305 -0.158194054  1.000000000 -0.100909119\n",
       "studytime  -0.004140037  0.064944137 -0.009174639 -0.100909119  1.000000000\n",
       "failures    0.243665377 -0.236679963 -0.250408444  0.092238746 -0.173563031\n",
       "famrel      0.053940096 -0.003914458 -0.001369727 -0.016807986  0.039730704\n",
       "freetime    0.016434389  0.030890867 -0.012845528 -0.017024944 -0.143198407\n",
       "goout       0.126963880  0.064094438  0.043104668  0.028539674 -0.063903675\n",
       "Dalc        0.131124605  0.019834099  0.002386429  0.138325309 -0.196019263\n",
       "Walc        0.117276052 -0.047123460 -0.012631018  0.134115752 -0.253784731\n",
       "health     -0.062187369 -0.046877829  0.014741537  0.007500606 -0.075615863\n",
       "absences    0.175230079  0.100284818  0.024472887 -0.012943775 -0.062700175\n",
       "G1         -0.064081497  0.205340997  0.190269936 -0.093039992  0.160611915\n",
       "G2         -0.143474049  0.215527168  0.164893393 -0.153197963  0.135879999\n",
       "G3         -0.161579438  0.217147496  0.152456939 -0.117142053  0.097819690\n",
       "           failures    famrel       freetime    goout        Dalc        \n",
       "age         0.24366538  0.053940096  0.01643439  0.126963880  0.131124605\n",
       "Medu       -0.23667996 -0.003914458  0.03089087  0.064094438  0.019834099\n",
       "Fedu       -0.25040844 -0.001369727 -0.01284553  0.043104668  0.002386429\n",
       "traveltime  0.09223875 -0.016807986 -0.01702494  0.028539674  0.138325309\n",
       "studytime  -0.17356303  0.039730704 -0.14319841 -0.063903675 -0.196019263\n",
       "failures    1.00000000 -0.044336626  0.09198747  0.124560922  0.136046931\n",
       "famrel     -0.04433663  1.000000000  0.15070144  0.064568411 -0.077594357\n",
       "freetime    0.09198747  0.150701444  1.00000000  0.285018715  0.209000848\n",
       "goout       0.12456092  0.064568411  0.28501871  1.000000000  0.266993848\n",
       "Dalc        0.13604693 -0.077594357  0.20900085  0.266993848  1.000000000\n",
       "Walc        0.14196203 -0.113397308  0.14782181  0.420385745  0.647544230\n",
       "health      0.06582728  0.094055728  0.07573336 -0.009577254  0.077179582\n",
       "absences    0.06372583 -0.044354095 -0.05807792  0.044302220  0.111908026\n",
       "G1         -0.35471761  0.022168316  0.01261293 -0.149103967 -0.094158792\n",
       "G2         -0.35589563 -0.018281347 -0.01377714 -0.162250034 -0.064120183\n",
       "G3         -0.36041494  0.051363429  0.01130724 -0.132791474 -0.054660041\n",
       "           Walc        health       absences    G1          G2         \n",
       "age         0.11727605 -0.062187369  0.17523008 -0.06408150 -0.14347405\n",
       "Medu       -0.04712346 -0.046877829  0.10028482  0.20534100  0.21552717\n",
       "Fedu       -0.01263102  0.014741537  0.02447289  0.19026994  0.16489339\n",
       "traveltime  0.13411575  0.007500606 -0.01294378 -0.09303999 -0.15319796\n",
       "studytime  -0.25378473 -0.075615863 -0.06270018  0.16061192  0.13588000\n",
       "failures    0.14196203  0.065827282  0.06372583 -0.35471761 -0.35589563\n",
       "famrel     -0.11339731  0.094055728 -0.04435409  0.02216832 -0.01828135\n",
       "freetime    0.14782181  0.075733357 -0.05807792  0.01261293 -0.01377714\n",
       "goout       0.42038575 -0.009577254  0.04430222 -0.14910397 -0.16225003\n",
       "Dalc        0.64754423  0.077179582  0.11190803 -0.09415879 -0.06412018\n",
       "Walc        1.00000000  0.092476317  0.13629110 -0.12617921 -0.08492735\n",
       "health      0.09247632  1.000000000 -0.02993671 -0.07317207 -0.09771987\n",
       "absences    0.13629110 -0.029936711  1.00000000 -0.03100290 -0.03177670\n",
       "G1         -0.12617921 -0.073172073 -0.03100290  1.00000000  0.85211807\n",
       "G2         -0.08492735 -0.097719866 -0.03177670  0.85211807  1.00000000\n",
       "G3         -0.05193932 -0.061334605  0.03424732  0.80146793  0.90486799\n",
       "           G3         \n",
       "age        -0.16157944\n",
       "Medu        0.21714750\n",
       "Fedu        0.15245694\n",
       "traveltime -0.11714205\n",
       "studytime   0.09781969\n",
       "failures   -0.36041494\n",
       "famrel      0.05136343\n",
       "freetime    0.01130724\n",
       "goout      -0.13279147\n",
       "Dalc       -0.05466004\n",
       "Walc       -0.05193932\n",
       "health     -0.06133460\n",
       "absences    0.03424732\n",
       "G1          0.80146793\n",
       "G2          0.90486799\n",
       "G3          1.00000000"
      ]
     },
     "metadata": {},
     "output_type": "display_data"
    }
   ],
   "source": [
    "# Grab only numeric columns\n",
    "num.cols <- sapply(df, is.numeric)\n",
    "\n",
    "# Filter to numeric columns for correlation\n",
    "cor.data <- cor(df[,num.cols])\n",
    "\n",
    "cor.data"
   ]
  },
  {
   "cell_type": "code",
   "execution_count": 21,
   "metadata": {},
   "outputs": [
    {
     "name": "stderr",
     "output_type": "stream",
     "text": [
      "corrplot 0.84 loaded\n"
     ]
    }
   ],
   "source": [
    "library(corrplot)\n",
    "library(corrgram)"
   ]
  },
  {
   "cell_type": "code",
   "execution_count": 22,
   "metadata": {},
   "outputs": [
    {
     "data": {
      "image/png": "[encoded data removed]",
      "text/plain": [
       "Plot with title \"\""
      ]
     },
     "metadata": {},
     "output_type": "display_data"
    }
   ],
   "source": [
    "corrplot(cor.data,method='color')\n",
    "\n"
   ]
  },
  {
   "cell_type": "code",
   "execution_count": 58,
   "metadata": {},
   "outputs": [
    {
     "data": {},
     "metadata": {},
     "output_type": "display_data"
    },
    {
     "data": {
      "image/png": "[encoded data removed]",
      "text/plain": [
       "plot without title"
      ]
     },
     "metadata": {},
     "output_type": "display_data"
    }
   ],
   "source": [
    " qplot(df$G2, df$G3, data=df, color=\"pink\",geom=c(\"line\"), xlab=\"absences\", ylab=\"Grade3\") "
   ]
  },
  {
   "cell_type": "code",
   "execution_count": 26,
   "metadata": {},
   "outputs": [
    {
     "data": {},
     "metadata": {},
     "output_type": "display_data"
    },
    {
     "data": {
      "image/png": "[encoded data removed]",
      "text/plain": [
       "plot without title"
      ]
     },
     "metadata": {},
     "output_type": "display_data"
    }
   ],
   "source": [
    "ggplot(df,aes(x=G3)) + geom_histogram(bins=20,alpha=0.5,fill='purple') + theme_minimal()\n"
   ]
  },
  {
   "cell_type": "code",
   "execution_count": 32,
   "metadata": {},
   "outputs": [],
   "source": [
    "# Import Library\n",
    "library(caTools)\n",
    "# Set a random see so your \"random\" results are the same as this notebook\n",
    "set.seed(101) \n",
    "\n",
    "# Split up the sample, basically randomly assigns a booleans to a new column \"sample\"\n",
    "sample <- sample.split(df$age, SplitRatio = 0.70) # SplitRatio = percent of sample==TRUE\n",
    "\n",
    "# Training Data\n",
    "train = subset(df, sample == TRUE)\n",
    "\n",
    "# Testing Data\n",
    "test = subset(df, sample == FALSE)"
   ]
  },
  {
   "cell_type": "code",
   "execution_count": 34,
   "metadata": {},
   "outputs": [],
   "source": [
    "model <- lm(G3 ~ .,train)"
   ]
  },
  {
   "cell_type": "code",
   "execution_count": 35,
   "metadata": {},
   "outputs": [
    {
     "data": {
      "text/plain": [
       "\n",
       "Call:\n",
       "lm(formula = G3 ~ ., data = train)\n",
       "\n",
       "Residuals:\n",
       "    Min      1Q  Median      3Q     Max \n",
       "-7.7681 -0.6423  0.2294  1.0691  4.5942 \n",
       "\n",
       "Coefficients:\n",
       "                  Estimate Std. Error t value Pr(>|t|)    \n",
       "(Intercept)      -1.329568   2.474569  -0.537 0.591574    \n",
       "schoolMS          0.838581   0.470545   1.782 0.076016 .  \n",
       "sexM              0.034883   0.275586   0.127 0.899382    \n",
       "age              -0.214994   0.119579  -1.798 0.073472 .  \n",
       "addressU          0.067190   0.326035   0.206 0.836905    \n",
       "famsizeLE3       -0.111068   0.283228  -0.392 0.695302    \n",
       "PstatusT         -0.153653   0.401679  -0.383 0.702417    \n",
       "Medu              0.279949   0.171111   1.636 0.103164    \n",
       "Fedu             -0.221275   0.151103  -1.464 0.144422    \n",
       "Mjobhealth        0.002065   0.610532   0.003 0.997304    \n",
       "Mjobother         0.509947   0.403195   1.265 0.207209    \n",
       "Mjobservices      0.475476   0.435332   1.092 0.275857    \n",
       "Mjobteacher       0.285345   0.550640   0.518 0.604802    \n",
       "Fjobhealth        0.433172   0.774191   0.560 0.576343    \n",
       "Fjobother        -0.296792   0.577217  -0.514 0.607611    \n",
       "Fjobservices     -0.311595   0.593628  -0.525 0.600148    \n",
       "Fjobteacher      -0.321205   0.712695  -0.451 0.652628    \n",
       "reasonhome       -0.431435   0.319907  -1.349 0.178755    \n",
       "reasonother       0.159612   0.454480   0.351 0.725755    \n",
       "reasonreputation -0.051845   0.317894  -0.163 0.870589    \n",
       "guardianmother    0.267462   0.311371   0.859 0.391226    \n",
       "guardianother    -0.157335   0.554872  -0.284 0.777003    \n",
       "traveltime        0.274301   0.197865   1.386 0.166968    \n",
       "studytime        -0.140650   0.155149  -0.907 0.365577    \n",
       "failures         -0.185333   0.211040  -0.878 0.380739    \n",
       "schoolsupyes      0.562716   0.379303   1.484 0.139268    \n",
       "famsupyes         0.369402   0.268848   1.374 0.170745    \n",
       "paidyes           0.060643   0.270971   0.224 0.823107    \n",
       "activitiesyes    -0.286006   0.247519  -1.155 0.249063    \n",
       "nurseryyes       -0.426858   0.315064  -1.355 0.176774    \n",
       "higheryes         0.503353   0.677346   0.743 0.458148    \n",
       "internetyes      -0.097405   0.331040  -0.294 0.768834    \n",
       "romanticyes      -0.243837   0.268414  -0.908 0.364577    \n",
       "famrel            0.494479   0.136663   3.618 0.000363 ***\n",
       "freetime         -0.139869   0.138297  -1.011 0.312879    \n",
       "goout             0.078871   0.128794   0.612 0.540879    \n",
       "Dalc             -0.248633   0.178366  -1.394 0.164651    \n",
       "Walc              0.221434   0.139178   1.591 0.112950    \n",
       "health            0.027495   0.095100   0.289 0.772748    \n",
       "absences          0.060830   0.017915   3.396 0.000804 ***\n",
       "G1                0.162966   0.076956   2.118 0.035255 *  \n",
       "G2                0.994677   0.066450  14.969  < 2e-16 ***\n",
       "---\n",
       "Signif. codes:  0 '***' 0.001 '**' 0.01 '*' 0.05 '.' 0.1 ' ' 1\n",
       "\n",
       "Residual standard error: 1.868 on 235 degrees of freedom\n",
       "Multiple R-squared:  0.8616,\tAdjusted R-squared:  0.8374 \n",
       "F-statistic: 35.68 on 41 and 235 DF,  p-value: < 2.2e-16\n"
      ]
     },
     "metadata": {},
     "output_type": "display_data"
    }
   ],
   "source": [
    "summary(model)"
   ]
  },
  {
   "cell_type": "code",
   "execution_count": 37,
   "metadata": {},
   "outputs": [
    {
     "data": {
      "text/html": [
       "<table>\n",
       "<thead><tr><th></th><th scope=col>res</th></tr></thead>\n",
       "<tbody>\n",
       "\t<tr><th scope=row>1</th><td> 0.9678451</td></tr>\n",
       "\t<tr><th scope=row>5</th><td> 1.1829980</td></tr>\n",
       "\t<tr><th scope=row>6</th><td>-1.4096050</td></tr>\n",
       "\t<tr><th scope=row>7</th><td> 0.1125706</td></tr>\n",
       "\t<tr><th scope=row>9</th><td> 0.3814670</td></tr>\n",
       "\t<tr><th scope=row>10</th><td> 0.3221204</td></tr>\n",
       "</tbody>\n",
       "</table>\n"
      ],
      "text/latex": [
       "\\begin{tabular}{r|l}\n",
       "  & res\\\\\n",
       "\\hline\n",
       "\t1 &  0.9678451\\\\\n",
       "\t5 &  1.1829980\\\\\n",
       "\t6 & -1.4096050\\\\\n",
       "\t7 &  0.1125706\\\\\n",
       "\t9 &  0.3814670\\\\\n",
       "\t10 &  0.3221204\\\\\n",
       "\\end{tabular}\n"
      ],
      "text/markdown": [
       "\n",
       "| <!--/--> | res | \n",
       "|---|---|---|---|---|---|\n",
       "| 1 |  0.9678451 | \n",
       "| 5 |  1.1829980 | \n",
       "| 6 | -1.4096050 | \n",
       "| 7 |  0.1125706 | \n",
       "| 9 |  0.3814670 | \n",
       "| 10 |  0.3221204 | \n",
       "\n",
       "\n"
      ],
      "text/plain": [
       "   res       \n",
       "1   0.9678451\n",
       "5   1.1829980\n",
       "6  -1.4096050\n",
       "7   0.1125706\n",
       "9   0.3814670\n",
       "10  0.3221204"
      ]
     },
     "metadata": {},
     "output_type": "display_data"
    }
   ],
   "source": [
    "# Grab residuals\n",
    "res <- residuals(model)\n",
    "\n",
    "# Convert to DataFrame for gglpot\n",
    "res <- as.data.frame(res)\n",
    "\n",
    "head(res)"
   ]
  },
  {
   "cell_type": "code",
   "execution_count": 39,
   "metadata": {},
   "outputs": [
    {
     "name": "stderr",
     "output_type": "stream",
     "text": [
      "`stat_bin()` using `bins = 30`. Pick better value with `binwidth`.\n"
     ]
    },
    {
     "data": {},
     "metadata": {},
     "output_type": "display_data"
    },
    {
     "data": {
      "image/png": "[encoded data removed]",
      "text/plain": [
       "plot without title"
      ]
     },
     "metadata": {},
     "output_type": "display_data"
    }
   ],
   "source": [
    "ggplot(res,aes(res)) +  geom_histogram(fill='blue',alpha=0.25)\n"
   ]
  },
  {
   "cell_type": "code",
   "execution_count": 40,
   "metadata": {},
   "outputs": [
    {
     "data": {
      "image/png": "[encoded data removed]",
      "text/plain": [
       "Plot with title \"\""
      ]
     },
     "metadata": {},
     "output_type": "display_data"
    },
    {
     "data": {
      "image/png": "[encoded data removed]",
      "text/plain": [
       "Plot with title \"\""
      ]
     },
     "metadata": {},
     "output_type": "display_data"
    },
    {
     "data": {
      "image/png": "[encoded data removed]",
      "text/plain": [
       "Plot with title \"\""
      ]
     },
     "metadata": {},
     "output_type": "display_data"
    },
    {
     "data": {
      "image/png": "[encoded data removed]",
      "text/plain": [
       "Plot with title \"\""
      ]
     },
     "metadata": {},
     "output_type": "display_data"
    }
   ],
   "source": [
    "plot(model)\n"
   ]
  },
  {
   "cell_type": "code",
   "execution_count": 41,
   "metadata": {},
   "outputs": [],
   "source": [
    "G3.predictions <- predict(model,test)\n"
   ]
  },
  {
   "cell_type": "code",
   "execution_count": 42,
   "metadata": {},
   "outputs": [],
   "source": [
    "results <- cbind(G3.predictions,test$G3) \n",
    "colnames(results) <- c('pred','real')\n",
    "results <- as.data.frame(results)"
   ]
  },
  {
   "cell_type": "code",
   "execution_count": 49,
   "metadata": {},
   "outputs": [
    {
     "data": {
      "text/html": [
       "<table>\n",
       "<thead><tr><th></th><th scope=col>pred</th><th scope=col>real</th></tr></thead>\n",
       "<tbody>\n",
       "\t<tr><th scope=row>2</th><td> 3.835533</td><td> 6       </td></tr>\n",
       "\t<tr><th scope=row>3</th><td> 7.148456</td><td>10       </td></tr>\n",
       "\t<tr><th scope=row>4</th><td>13.257794</td><td>15       </td></tr>\n",
       "\t<tr><th scope=row>8</th><td> 5.088100</td><td> 6       </td></tr>\n",
       "\t<tr><th scope=row>15</th><td>14.934291</td><td>16       </td></tr>\n",
       "\t<tr><th scope=row>16</th><td>13.835679</td><td>14       </td></tr>\n",
       "\t<tr><th scope=row>20</th><td> 8.312217</td><td>10       </td></tr>\n",
       "\t<tr><th scope=row>23</th><td>15.084120</td><td>16       </td></tr>\n",
       "\t<tr><th scope=row>29</th><td>11.186269</td><td>11       </td></tr>\n",
       "\t<tr><th scope=row>31</th><td>10.740249</td><td>12       </td></tr>\n",
       "\t<tr><th scope=row>33</th><td>16.379024</td><td>16       </td></tr>\n",
       "\t<tr><th scope=row>34</th><td> 9.541280</td><td>12       </td></tr>\n",
       "\t<tr><th scope=row>35</th><td>14.735952</td><td>15       </td></tr>\n",
       "\t<tr><th scope=row>39</th><td>12.800629</td><td>11       </td></tr>\n",
       "\t<tr><th scope=row>41</th><td> 9.712460</td><td>11       </td></tr>\n",
       "\t<tr><th scope=row>44</th><td> 7.973265</td><td>11       </td></tr>\n",
       "\t<tr><th scope=row>49</th><td>15.759618</td><td>14       </td></tr>\n",
       "\t<tr><th scope=row>52</th><td>13.210010</td><td>13       </td></tr>\n",
       "\t<tr><th scope=row>55</th><td>13.603698</td><td>13       </td></tr>\n",
       "\t<tr><th scope=row>65</th><td> 9.574780</td><td>10       </td></tr>\n",
       "\t<tr><th scope=row>66</th><td>16.354806</td><td>15       </td></tr>\n",
       "\t<tr><th scope=row>68</th><td> 7.365795</td><td> 6       </td></tr>\n",
       "\t<tr><th scope=row>70</th><td>17.799993</td><td>16       </td></tr>\n",
       "\t<tr><th scope=row>75</th><td>15.367771</td><td>11       </td></tr>\n",
       "\t<tr><th scope=row>78</th><td>10.859284</td><td>11       </td></tr>\n",
       "\t<tr><th scope=row>79</th><td> 6.121098</td><td>10       </td></tr>\n",
       "\t<tr><th scope=row>80</th><td> 2.871973</td><td> 5       </td></tr>\n",
       "\t<tr><th scope=row>84</th><td>15.844178</td><td>15       </td></tr>\n",
       "\t<tr><th scope=row>86</th><td> 7.894600</td><td> 8       </td></tr>\n",
       "\t<tr><th scope=row>88</th><td>15.399841</td><td>14       </td></tr>\n",
       "\t<tr><th scope=row>...</th><td>...</td><td>...</td></tr>\n",
       "\t<tr><th scope=row>321</th><td>15.258907</td><td>13       </td></tr>\n",
       "\t<tr><th scope=row>325</th><td>13.099843</td><td>15       </td></tr>\n",
       "\t<tr><th scope=row>328</th><td>10.778127</td><td>10       </td></tr>\n",
       "\t<tr><th scope=row>329</th><td> 9.142082</td><td> 9       </td></tr>\n",
       "\t<tr><th scope=row>332</th><td>12.269108</td><td>14       </td></tr>\n",
       "\t<tr><th scope=row>333</th><td> 0.000000</td><td> 0       </td></tr>\n",
       "\t<tr><th scope=row>334</th><td> 5.297709</td><td> 0       </td></tr>\n",
       "\t<tr><th scope=row>340</th><td> 9.537887</td><td>10       </td></tr>\n",
       "\t<tr><th scope=row>345</th><td> 8.836027</td><td>10       </td></tr>\n",
       "\t<tr><th scope=row>347</th><td>15.556391</td><td>16       </td></tr>\n",
       "\t<tr><th scope=row>349</th><td>14.256995</td><td>15       </td></tr>\n",
       "\t<tr><th scope=row>351</th><td> 5.893219</td><td> 8       </td></tr>\n",
       "\t<tr><th scope=row>358</th><td>11.498238</td><td>11       </td></tr>\n",
       "\t<tr><th scope=row>359</th><td> 9.190173</td><td>10       </td></tr>\n",
       "\t<tr><th scope=row>360</th><td>16.435945</td><td>16       </td></tr>\n",
       "\t<tr><th scope=row>362</th><td>11.530112</td><td>12       </td></tr>\n",
       "\t<tr><th scope=row>363</th><td>11.639874</td><td>10       </td></tr>\n",
       "\t<tr><th scope=row>368</th><td> 6.437410</td><td> 0       </td></tr>\n",
       "\t<tr><th scope=row>370</th><td>12.975485</td><td>11       </td></tr>\n",
       "\t<tr><th scope=row>372</th><td>11.597477</td><td>12       </td></tr>\n",
       "\t<tr><th scope=row>373</th><td>10.392487</td><td>11       </td></tr>\n",
       "\t<tr><th scope=row>376</th><td> 7.650743</td><td>10       </td></tr>\n",
       "\t<tr><th scope=row>379</th><td>15.227799</td><td>15       </td></tr>\n",
       "\t<tr><th scope=row>380</th><td>11.179984</td><td>10       </td></tr>\n",
       "\t<tr><th scope=row>381</th><td>14.353099</td><td>14       </td></tr>\n",
       "\t<tr><th scope=row>383</th><td> 9.991988</td><td>10       </td></tr>\n",
       "\t<tr><th scope=row>389</th><td> 8.670461</td><td> 8       </td></tr>\n",
       "\t<tr><th scope=row>391</th><td> 8.851987</td><td> 9       </td></tr>\n",
       "\t<tr><th scope=row>394</th><td>12.844304</td><td>10       </td></tr>\n",
       "\t<tr><th scope=row>395</th><td> 7.999009</td><td> 9       </td></tr>\n",
       "</tbody>\n",
       "</table>\n"
      ],
      "text/latex": [
       "\\begin{tabular}{r|ll}\n",
       "  & pred & real\\\\\n",
       "\\hline\n",
       "\t2 &  3.835533 &  6       \\\\\n",
       "\t3 &  7.148456 & 10       \\\\\n",
       "\t4 & 13.257794 & 15       \\\\\n",
       "\t8 &  5.088100 &  6       \\\\\n",
       "\t15 & 14.934291 & 16       \\\\\n",
       "\t16 & 13.835679 & 14       \\\\\n",
       "\t20 &  8.312217 & 10       \\\\\n",
       "\t23 & 15.084120 & 16       \\\\\n",
       "\t29 & 11.186269 & 11       \\\\\n",
       "\t31 & 10.740249 & 12       \\\\\n",
       "\t33 & 16.379024 & 16       \\\\\n",
       "\t34 &  9.541280 & 12       \\\\\n",
       "\t35 & 14.735952 & 15       \\\\\n",
       "\t39 & 12.800629 & 11       \\\\\n",
       "\t41 &  9.712460 & 11       \\\\\n",
       "\t44 &  7.973265 & 11       \\\\\n",
       "\t49 & 15.759618 & 14       \\\\\n",
       "\t52 & 13.210010 & 13       \\\\\n",
       "\t55 & 13.603698 & 13       \\\\\n",
       "\t65 &  9.574780 & 10       \\\\\n",
       "\t66 & 16.354806 & 15       \\\\\n",
       "\t68 &  7.365795 &  6       \\\\\n",
       "\t70 & 17.799993 & 16       \\\\\n",
       "\t75 & 15.367771 & 11       \\\\\n",
       "\t78 & 10.859284 & 11       \\\\\n",
       "\t79 &  6.121098 & 10       \\\\\n",
       "\t80 &  2.871973 &  5       \\\\\n",
       "\t84 & 15.844178 & 15       \\\\\n",
       "\t86 &  7.894600 &  8       \\\\\n",
       "\t88 & 15.399841 & 14       \\\\\n",
       "\t... & ... & ...\\\\\n",
       "\t321 & 15.258907 & 13       \\\\\n",
       "\t325 & 13.099843 & 15       \\\\\n",
       "\t328 & 10.778127 & 10       \\\\\n",
       "\t329 &  9.142082 &  9       \\\\\n",
       "\t332 & 12.269108 & 14       \\\\\n",
       "\t333 &  0.000000 &  0       \\\\\n",
       "\t334 &  5.297709 &  0       \\\\\n",
       "\t340 &  9.537887 & 10       \\\\\n",
       "\t345 &  8.836027 & 10       \\\\\n",
       "\t347 & 15.556391 & 16       \\\\\n",
       "\t349 & 14.256995 & 15       \\\\\n",
       "\t351 &  5.893219 &  8       \\\\\n",
       "\t358 & 11.498238 & 11       \\\\\n",
       "\t359 &  9.190173 & 10       \\\\\n",
       "\t360 & 16.435945 & 16       \\\\\n",
       "\t362 & 11.530112 & 12       \\\\\n",
       "\t363 & 11.639874 & 10       \\\\\n",
       "\t368 &  6.437410 &  0       \\\\\n",
       "\t370 & 12.975485 & 11       \\\\\n",
       "\t372 & 11.597477 & 12       \\\\\n",
       "\t373 & 10.392487 & 11       \\\\\n",
       "\t376 &  7.650743 & 10       \\\\\n",
       "\t379 & 15.227799 & 15       \\\\\n",
       "\t380 & 11.179984 & 10       \\\\\n",
       "\t381 & 14.353099 & 14       \\\\\n",
       "\t383 &  9.991988 & 10       \\\\\n",
       "\t389 &  8.670461 &  8       \\\\\n",
       "\t391 &  8.851987 &  9       \\\\\n",
       "\t394 & 12.844304 & 10       \\\\\n",
       "\t395 &  7.999009 &  9       \\\\\n",
       "\\end{tabular}\n"
      ],
      "text/markdown": [
       "\n",
       "| <!--/--> | pred | real | \n",
       "|---|---|---|---|---|---|---|---|---|---|---|---|---|---|---|---|---|---|---|---|---|---|---|---|---|---|---|---|---|---|---|---|---|---|---|---|---|---|---|---|---|---|---|---|---|---|---|---|---|---|---|---|---|---|---|---|---|---|---|---|---|\n",
       "| 2 |  3.835533 |  6        | \n",
       "| 3 |  7.148456 | 10        | \n",
       "| 4 | 13.257794 | 15        | \n",
       "| 8 |  5.088100 |  6        | \n",
       "| 15 | 14.934291 | 16        | \n",
       "| 16 | 13.835679 | 14        | \n",
       "| 20 |  8.312217 | 10        | \n",
       "| 23 | 15.084120 | 16        | \n",
       "| 29 | 11.186269 | 11        | \n",
       "| 31 | 10.740249 | 12        | \n",
       "| 33 | 16.379024 | 16        | \n",
       "| 34 |  9.541280 | 12        | \n",
       "| 35 | 14.735952 | 15        | \n",
       "| 39 | 12.800629 | 11        | \n",
       "| 41 |  9.712460 | 11        | \n",
       "| 44 |  7.973265 | 11        | \n",
       "| 49 | 15.759618 | 14        | \n",
       "| 52 | 13.210010 | 13        | \n",
       "| 55 | 13.603698 | 13        | \n",
       "| 65 |  9.574780 | 10        | \n",
       "| 66 | 16.354806 | 15        | \n",
       "| 68 |  7.365795 |  6        | \n",
       "| 70 | 17.799993 | 16        | \n",
       "| 75 | 15.367771 | 11        | \n",
       "| 78 | 10.859284 | 11        | \n",
       "| 79 |  6.121098 | 10        | \n",
       "| 80 |  2.871973 |  5        | \n",
       "| 84 | 15.844178 | 15        | \n",
       "| 86 |  7.894600 |  8        | \n",
       "| 88 | 15.399841 | 14        | \n",
       "| ... | ... | ... | \n",
       "| 321 | 15.258907 | 13        | \n",
       "| 325 | 13.099843 | 15        | \n",
       "| 328 | 10.778127 | 10        | \n",
       "| 329 |  9.142082 |  9        | \n",
       "| 332 | 12.269108 | 14        | \n",
       "| 333 |  0.000000 |  0        | \n",
       "| 334 |  5.297709 |  0        | \n",
       "| 340 |  9.537887 | 10        | \n",
       "| 345 |  8.836027 | 10        | \n",
       "| 347 | 15.556391 | 16        | \n",
       "| 349 | 14.256995 | 15        | \n",
       "| 351 |  5.893219 |  8        | \n",
       "| 358 | 11.498238 | 11        | \n",
       "| 359 |  9.190173 | 10        | \n",
       "| 360 | 16.435945 | 16        | \n",
       "| 362 | 11.530112 | 12        | \n",
       "| 363 | 11.639874 | 10        | \n",
       "| 368 |  6.437410 |  0        | \n",
       "| 370 | 12.975485 | 11        | \n",
       "| 372 | 11.597477 | 12        | \n",
       "| 373 | 10.392487 | 11        | \n",
       "| 376 |  7.650743 | 10        | \n",
       "| 379 | 15.227799 | 15        | \n",
       "| 380 | 11.179984 | 10        | \n",
       "| 381 | 14.353099 | 14        | \n",
       "| 383 |  9.991988 | 10        | \n",
       "| 389 |  8.670461 |  8        | \n",
       "| 391 |  8.851987 |  9        | \n",
       "| 394 | 12.844304 | 10        | \n",
       "| 395 |  7.999009 |  9        | \n",
       "\n",
       "\n"
      ],
      "text/plain": [
       "    pred      real\n",
       "2    3.835533  6  \n",
       "3    7.148456 10  \n",
       "4   13.257794 15  \n",
       "8    5.088100  6  \n",
       "15  14.934291 16  \n",
       "16  13.835679 14  \n",
       "20   8.312217 10  \n",
       "23  15.084120 16  \n",
       "29  11.186269 11  \n",
       "31  10.740249 12  \n",
       "33  16.379024 16  \n",
       "34   9.541280 12  \n",
       "35  14.735952 15  \n",
       "39  12.800629 11  \n",
       "41   9.712460 11  \n",
       "44   7.973265 11  \n",
       "49  15.759618 14  \n",
       "52  13.210010 13  \n",
       "55  13.603698 13  \n",
       "65   9.574780 10  \n",
       "66  16.354806 15  \n",
       "68   7.365795  6  \n",
       "70  17.799993 16  \n",
       "75  15.367771 11  \n",
       "78  10.859284 11  \n",
       "79   6.121098 10  \n",
       "80   2.871973  5  \n",
       "84  15.844178 15  \n",
       "86   7.894600  8  \n",
       "88  15.399841 14  \n",
       "... ...       ... \n",
       "321 15.258907 13  \n",
       "325 13.099843 15  \n",
       "328 10.778127 10  \n",
       "329  9.142082  9  \n",
       "332 12.269108 14  \n",
       "333  0.000000  0  \n",
       "334  5.297709  0  \n",
       "340  9.537887 10  \n",
       "345  8.836027 10  \n",
       "347 15.556391 16  \n",
       "349 14.256995 15  \n",
       "351  5.893219  8  \n",
       "358 11.498238 11  \n",
       "359  9.190173 10  \n",
       "360 16.435945 16  \n",
       "362 11.530112 12  \n",
       "363 11.639874 10  \n",
       "368  6.437410  0  \n",
       "370 12.975485 11  \n",
       "372 11.597477 12  \n",
       "373 10.392487 11  \n",
       "376  7.650743 10  \n",
       "379 15.227799 15  \n",
       "380 11.179984 10  \n",
       "381 14.353099 14  \n",
       "383  9.991988 10  \n",
       "389  8.670461  8  \n",
       "391  8.851987  9  \n",
       "394 12.844304 10  \n",
       "395  7.999009  9  "
      ]
     },
     "metadata": {},
     "output_type": "display_data"
    }
   ],
   "source": [
    "sample(results)"
   ]
  },
  {
   "cell_type": "code",
   "execution_count": 43,
   "metadata": {},
   "outputs": [],
   "source": [
    "to_zero <- function(x){\n",
    "    if  (x < 0){\n",
    "        return(0)\n",
    "    }else{\n",
    "        return(x)\n",
    "    }\n",
    "}"
   ]
  },
  {
   "cell_type": "code",
   "execution_count": 45,
   "metadata": {},
   "outputs": [],
   "source": [
    "results$pred <- sapply(results$pred,to_zero)"
   ]
  },
  {
   "cell_type": "code",
   "execution_count": 50,
   "metadata": {},
   "outputs": [
    {
     "name": "stdout",
     "output_type": "stream",
     "text": [
      "[1] 4.411405\n"
     ]
    }
   ],
   "source": [
    "mse <- mean((results$real-results$pred)^2)\n",
    "print(mse)"
   ]
  },
  {
   "cell_type": "code",
   "execution_count": 51,
   "metadata": {},
   "outputs": [
    {
     "data": {
      "text/html": [
       "2.10033451255583"
      ],
      "text/latex": [
       "2.10033451255583"
      ],
      "text/markdown": [
       "2.10033451255583"
      ],
      "text/plain": [
       "[1] 2.100335"
      ]
     },
     "metadata": {},
     "output_type": "display_data"
    }
   ],
   "source": [
    "mse^0.5\n"
   ]
  },
  {
   "cell_type": "code",
   "execution_count": null,
   "metadata": {},
   "outputs": [],
   "source": []
  }
 ],
 "metadata": {
  "kernelspec": {
   "display_name": "R",
   "language": "R",
   "name": "ir"
  },
  "language_info": {
   "codemirror_mode": "r",
   "file_extension": ".r",
   "mimetype": "text/x-r-source",
   "name": "R",
   "pygments_lexer": "r",
   "version": "3.5.1"
  }
 },
 "nbformat": 4,
 "nbformat_minor": 2
}
